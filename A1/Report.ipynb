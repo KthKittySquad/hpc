{
 "cells": [
  {
   "cell_type": "markdown",
   "id": "8d211343-1164-4346-a5d6-a9e076335136",
   "metadata": {},
   "source": [
    "# E1\n",
    "## T1.1\n",
    "ProductName:    \tmacOS\n",
    "ProductVersion:    \t15.0.1\n",
    "BuildVersion:    \t24A348\n",
    "Darwin Mac 24.0.0 Darwin Kernel Version 24.0.0: Tue Sep 24 23:37:13 PDT 2024; root:xnu-11215.1.12~1/RELEASE_ARM64_T8112 arm64\n",
    "\n",
    "time.time: 7.152557373046875e-07\n",
    "timeit.default_timer: 8.297502063214779e-08\n",
    "time.time_ns: 768.0\n"
   ]
  },
  {
   "cell_type": "code",
   "execution_count": 1,
   "id": "03a9f7e7-4d97-402d-b68c-272ce51469a6",
   "metadata": {},
   "outputs": [
    {
     "ename": "ModuleNotFoundError",
     "evalue": "No module named 'numpy'",
     "output_type": "error",
     "traceback": [
      "\u001b[0;31m---------------------------------------------------------------------------\u001b[0m",
      "\u001b[0;31mModuleNotFoundError\u001b[0m                       Traceback (most recent call last)",
      "Cell \u001b[0;32mIn[1], line 1\u001b[0m\n\u001b[0;32m----> 1\u001b[0m \u001b[38;5;28;01mimport\u001b[39;00m \u001b[38;5;21;01mnumpy\u001b[39;00m \u001b[38;5;28;01mas\u001b[39;00m \u001b[38;5;21;01mnp\u001b[39;00m\n\u001b[1;32m      2\u001b[0m \u001b[38;5;28;01mimport\u001b[39;00m \u001b[38;5;21;01mtime\u001b[39;00m\n\u001b[1;32m      3\u001b[0m \u001b[38;5;28;01mimport\u001b[39;00m \u001b[38;5;21;01mtimeit\u001b[39;00m\n",
      "\u001b[0;31mModuleNotFoundError\u001b[0m: No module named 'numpy'"
     ]
    }
   ],
   "source": [
    "import numpy as np\n",
    "import time\n",
    "import timeit\n",
    "\n",
    "\n",
    "def checktick(timestampFunction):\n",
    "    M = 200\n",
    "    timesfound = np.empty((M,))\n",
    "    for i in range(M):\n",
    "        t1 = timestampFunction()  # get timestamp from timer\n",
    "        t2 = timestampFunction()  # get timestamp from timer\n",
    "        while (\n",
    "            t2 - t1\n",
    "        ) < 1e-16:  # if zero then we are below clock granularity, retake timing\n",
    "            t2 = timestampFunction()  # get timestamp from timer\n",
    "        t1 = t2  # this is outside the loop\n",
    "        timesfound[i] = t1  # record the time stamp\n",
    "    minDelta = 1000000\n",
    "    Delta = np.diff(timesfound)  # it should be cast to int only when needed\n",
    "    minDelta = Delta.min()\n",
    "    return minDelta\n",
    "\n",
    "\n",
    "def main():\n",
    "    print(checktick(time.time))\n",
    "    print(checktick(timeit.default_timer))\n",
    "    print(checktick(time.time_ns))\n",
    "\n",
    "\n",
    "if __name__ == \"__main__\":\n",
    "    main()\n"
   ]
  },
  {
   "cell_type": "markdown",
   "id": "2e28d44c-6f93-45de-9406-712e5759e1d0",
   "metadata": {},
   "source": [
    "## T1.2\n",
    "\n",
    "With the JuliaSet.py using our own made decorator.py\n",
    "\n",
    "Results for computer with core speed of 4.05 GHz (assumed):\n",
    "Function: calculate_z_serial_purepython\n",
    "  Average Execution Time: 2.619 seconds\n",
    "  Average Standard Deviation: 0.0103 seconds\n",
    "Function: calc_pure_python\n",
    "  Average Execution Time: 2.811 seconds\n",
    "  Average Standard Deviation: 0.0215 seconds\n",
    "\n",
    "With a clock frequency of about 4.05 GHz, a single cycle is about 0.25ns which is vastly smaller than both standard deviations (as they have 10.3 ms and 21.5 ms respectively). This means the amount of cycles must differ between each run or other programmes take up cycles on the system when running the code.\n",
    "\n",
    "It might as well be the case that the OS decides to not use the performance cores in the CPU. These have a lower clock frequency of 2.75 GHz which results in the per cycle time of 0.36ns. This is still magnitudes smaller than the standard deviation of 10.3 ms and 21.5 ms of the average standard deviations. The kernel thread scheduling could allocate varying amounts of CPU time to each thread, contributing to the observed variation in execution times.\n"
   ]
  },
  {
   "cell_type": "code",
   "execution_count": null,
   "id": "588c3ecc-eef6-4a4d-8b69-cb13974e3fc2",
   "metadata": {},
   "outputs": [],
   "source": [
    "import timeit\n",
    "from functools import wraps\n",
    "from typing import Callable\n",
    "import numpy as np\n",
    "\n",
    "\n",
    "def timer(func: Callable) -> Callable:\n",
    "    @wraps(func)\n",
    "    def wrapper(*args, **kwargs):\n",
    "        arr = np.zeros((10,))\n",
    "        result = None\n",
    "        for n in range(10):\n",
    "            start = timeit.default_timer()\n",
    "            result = func(*args, **kwargs)\n",
    "            end = timeit.default_timer()\n",
    "            arr[n] = end - start\n",
    "        print(f\"Function: {func.__name__}\")\n",
    "        print(f\"Average Execution Time: {arr.mean():.6f} seconds\")\n",
    "        print(f\"Standard Deviation: {arr.std():.6f} seconds\")\n",
    "        return result\n",
    "\n",
    "    return wrapper\n"
   ]
  },
  {
   "cell_type": "markdown",
   "id": "675c69a4-3b05-48de-b6a0-410f5523953e",
   "metadata": {},
   "source": [
    "## T1.3\n",
    "Using the cprofile command:"
   ]
  },
  {
   "cell_type": "code",
   "execution_count": null,
   "id": "9d026dc8-c1a8-42e3-b7ca-5f783fa549d4",
   "metadata": {},
   "outputs": [],
   "source": [
    "python3 -m cProfile -s cumulative JuliaSet.py"
   ]
  },
  {
   "cell_type": "markdown",
   "id": "c53987f0-2a8f-4bfe-b0b2-9c4765f20040",
   "metadata": {},
   "source": [
    "cProfile is showing results higher than the built decorator because of the fact that it has a lot more overhead done than the decorator. It also differentiates calc_pure_python from calculate_z_serial_purepython part which means it does not include it in the first function in cProfile while the decorator includes both. This makes cProfile include more overhead but is as well more informative than the decorator."
   ]
  },
  {
   "cell_type": "markdown",
   "id": "0ad453af-a46b-4293-be76-5714dcff49f5",
   "metadata": {},
   "source": [
    "Using the command"
   ]
  },
  {
   "cell_type": "code",
   "execution_count": null,
   "id": "c54cfef2-6629-4e0f-8642-2802623c70b2",
   "metadata": {},
   "outputs": [],
   "source": [
    "python3 -m kernprof -l JuliaSet.py"
   ]
  },
  {
   "cell_type": "code",
   "execution_count": null,
   "id": "c8ac3215-02be-4e24-a32b-b37a06e4ea4c",
   "metadata": {},
   "outputs": [],
   "source": []
  }
 ],
 "metadata": {
  "kernelspec": {
   "display_name": "Python 3 (ipykernel)",
   "language": "python",
   "name": "python3"
  },
  "language_info": {
   "codemirror_mode": {
    "name": "ipython",
    "version": 3
   },
   "file_extension": ".py",
   "mimetype": "text/x-python",
   "name": "python",
   "nbconvert_exporter": "python",
   "pygments_lexer": "ipython3",
   "version": "3.13.1"
  }
 },
 "nbformat": 4,
 "nbformat_minor": 5
}
