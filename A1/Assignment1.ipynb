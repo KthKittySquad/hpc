{
 "cells": [
  {
   "cell_type": "markdown",
   "metadata": {},
   "source": [
    "E1\n",
    "T1.1\n",
    "ProductName:    \tmacOS\n",
    "ProductVersion:    \t15.0.1\n",
    "BuildVersion:    \t24A348\n",
    "Darwin Mac 24.0.0 Darwin Kernel Version 24.0.0: Tue Sep 24 23:37:13 PDT 2024; root:xnu-11215.1.12~1/RELEASE_ARM64_T8112 arm64\n",
    "\n",
    "time.time: 7.152557373046875e-07\n",
    "timeit.default_timer: 8.297502063214779e-08\n",
    "time.time_ns: 768.0\n",
    "\n",
    "ProductName:\t\tmacOS\n",
    "ProductVersion:\t14.6.1\n",
    "BuildVersion:\t\t23G93\n",
    "Darwin Mac 23.6.0 Darwin Kernel Version 23.6.0: Mon Jul 29 21:14:30 PDT 2024; root:xnu-10063.141.2~1/RELEASE_ARM64_T6030 arm64\n",
    "time.time: 7.152557373046875e-07\n",
    "timeit.default_timer: 8.288770914077759e-08\n",
    "time.time_ns: 768.0\n",
    "\n",
    "The code below is our clock granularity check used for the results above.\n"
   ]
  },
  {
   "cell_type": "code",
   "execution_count": null,
   "metadata": {},
   "outputs": [
    {
     "ename": "",
     "evalue": "",
     "output_type": "error",
     "traceback": [
      "\u001b[1;31mRunning cells with 'Python 3.12.6' requires the ipykernel package.\n",
      "\u001b[1;31mRun the following command to install 'ipykernel' into the Python environment. \n",
      "\u001b[1;31mCommand: '/opt/homebrew/bin/python3 -m pip install ipykernel -U --user --force-reinstall'"
     ]
    }
   ],
   "source": [
    "import numpy as np\n",
    "import time\n",
    "import timeit\n",
    "\n",
    "\n",
    "def checktick(timestampFunction):\n",
    "    M = 200\n",
    "    timesfound = np.empty((M,))\n",
    "    for i in range(M):\n",
    "        t1 = timestampFunction()  # get timestamp from timer\n",
    "        t2 = timestampFunction()  # get timestamp from timer\n",
    "        while (\n",
    "            t2 - t1\n",
    "        ) < 1e-16:  # if zero then we are below clock granularity, retake timing\n",
    "            t2 = timestampFunction()  # get timestamp from timer\n",
    "        t1 = t2  # this is outside the loop\n",
    "        timesfound[i] = t1  # record the time stamp\n",
    "    minDelta = 1000000\n",
    "    Delta = np.diff(timesfound)  # it should be cast to int only when needed\n",
    "    minDelta = Delta.min()\n",
    "    return minDelta\n",
    "\n",
    "\n",
    "def main():\n",
    "    print(checktick(time.time))\n",
    "    print(checktick(timeit.default_timer))\n",
    "    print(checktick(time.time_ns))\n",
    "\n",
    "\n",
    "if __name__ == \"__main__\":\n",
    "    main()\n"
   ]
  },
  {
   "cell_type": "markdown",
   "metadata": {},
   "source": []
  }
 ],
 "metadata": {
  "kernelspec": {
   "display_name": "Python 3",
   "language": "python",
   "name": "python3"
  },
  "language_info": {
   "name": "python",
   "version": "3.12.6"
  }
 },
 "nbformat": 4,
 "nbformat_minor": 5
}
