{
 "cells": [
  {
   "cell_type": "markdown",
   "metadata": {},
   "source": [
    "## Assignment II: Data Structures and Methods for HPC"
   ]
  },
  {
   "cell_type": "markdown",
   "metadata": {},
   "source": [
    "# Exercise 1 - Pytest with Julia Set Code"
   ]
  },
  {
   "cell_type": "markdown",
   "metadata": {},
   "source": [
    "Julia code with assert statement removed and replaced with a return of output for the function."
   ]
  },
  {
   "cell_type": "code",
   "execution_count": 8,
   "metadata": {},
   "outputs": [
    {
     "name": "stdout",
     "output_type": "stream",
     "text": [
      "Length of x: 1000\n",
      "Total elements: 1000000\n",
      "calculate_z_serial_purepython took 1.9679391384124756 seconds\n",
      "the sum is:  33219980\n"
     ]
    }
   ],
   "source": [
    "\"\"\"Julia set generator without optional PIL-based image drawing\"\"\"\n",
    "import time\n",
    "from functools import wraps\n",
    "\n",
    "# area of complex space to investigate\n",
    "x1, x2, y1, y2 = -1.8, 1.8, -1.8, 1.8\n",
    "c_real, c_imag = -0.62772, -0.42193\n",
    "\n",
    "\n",
    "# decorator to time\n",
    "def timefn(fn):\n",
    "    @wraps(fn)\n",
    "    def measure_time(*args, **kwargs):\n",
    "        t1 = time.time()\n",
    "        result = fn(*args, **kwargs)\n",
    "        t2 = time.time()\n",
    "        print(f\"@timefn: {fn.__name__} took {t2 - t1} seconds\")\n",
    "        return result\n",
    "\n",
    "    return measure_time\n",
    "\n",
    "\n",
    "def calc_pure_python(desired_width, max_iterations):\n",
    "    \"\"\"Create a list of complex coordinates (zs) and complex parameters (cs),\n",
    "    build Julia set\"\"\"\n",
    "    x_step = (x2 - x1) / desired_width\n",
    "    y_step = (y1 - y2) / desired_width\n",
    "    x = []\n",
    "    y = []\n",
    "    ycoord = y2\n",
    "    while ycoord > y1:\n",
    "        y.append(ycoord)\n",
    "        ycoord += y_step\n",
    "    xcoord = x1\n",
    "    while xcoord < x2:\n",
    "        x.append(xcoord)\n",
    "        xcoord += x_step\n",
    "    # build a list of coordinates and the initial condition for each cell.\n",
    "    # Note that our initial condition is a constant and could easily be removed,\n",
    "    # we use it to simulate a real-world scenario with several inputs to our\n",
    "    # function\n",
    "    zs = []\n",
    "    cs = []\n",
    "    for ycoord in y:\n",
    "        for xcoord in x:\n",
    "            zs.append(complex(xcoord, ycoord))\n",
    "            cs.append(complex(c_real, c_imag))\n",
    "\n",
    "    print(\"Length of x:\", len(x))\n",
    "    print(\"Total elements:\", len(zs))\n",
    "    start_time = time.time()\n",
    "    output = calculate_z_serial_purepython(max_iterations, zs, cs)\n",
    "    end_time = time.time()\n",
    "    secs = end_time - start_time\n",
    "    print(calculate_z_serial_purepython.__name__ + \" took\", secs, \"seconds\")\n",
    "\n",
    "    print(\"the sum is: \", sum(output))\n",
    "\n",
    "    return output\n",
    "\n",
    "\n",
    "def calculate_z_serial_purepython(maxiter, zs, cs):\n",
    "    \"\"\"Calculate output list using Julia update rule\"\"\"\n",
    "    output = [0] * len(zs)\n",
    "    for i in range(len(zs)):\n",
    "        n = 0\n",
    "        z = zs[i]\n",
    "        c = cs[i]\n",
    "        while abs(z) < 2 and n < maxiter:\n",
    "            z = z * z + c\n",
    "            n += 1\n",
    "        output[i] = n\n",
    "    return output\n",
    "\n",
    "\n",
    "if __name__ == \"__main__\":\n",
    "    # Calculate the Julia set using a pure Python solution with\n",
    "    # reasonable defaults for a laptop\n",
    "    calc_pure_python(desired_width=1000, max_iterations=300)"
   ]
  },
  {
   "cell_type": "markdown",
   "metadata": {},
   "source": [
    "Pytest of the function which replaced the assert statment and accounts for multiple test cases and dimensions."
   ]
  },
  {
   "cell_type": "code",
   "execution_count": 9,
   "metadata": {},
   "outputs": [],
   "source": [
    "import ipytest\n",
    "import pytest\n",
    "ipytest.autoconfig()"
   ]
  },
  {
   "cell_type": "code",
   "execution_count": 10,
   "metadata": {},
   "outputs": [
    {
     "name": "stdout",
     "output_type": "stream",
     "text": [
      "\u001b[1m======================================= test session starts ========================================\u001b[0m\n",
      "platform darwin -- Python 3.12.2, pytest-8.3.5, pluggy-1.5.0\n",
      "rootdir: /Users/marcuscarlbom/Programming/github/hpc/A2\n",
      "collected 2 items\n",
      "\n",
      "t_2f34c20259584d9fbc048d5e3622caaa.py \u001b[32m.\u001b[0m\u001b[32m.\u001b[0m\u001b[32m                                                     [100%]\u001b[0m\n",
      "\n",
      "\u001b[32m======================================== \u001b[32m\u001b[1m2 passed\u001b[0m\u001b[32m in 2.08s\u001b[0m\u001b[32m =========================================\u001b[0m\n"
     ]
    }
   ],
   "source": [
    "%%ipytest -v\n",
    "\n",
    "@pytest.mark.parametrize('width, iterations, expected', [(1000, 300, 33219980), (10, 3, 177)])\n",
    "def test_calc_pure_python(width, iterations, expected):\n",
    "    output = calc_pure_python(width, iterations)\n",
    "    assert sum(output) == expected"
   ]
  },
  {
   "cell_type": "markdown",
   "metadata": {},
   "source": [
    "To include unit tests with different numbers or iterations, an expected value is necessary but easily implemented in the above code as another tuple in the list. Add one tuple after the two given cases, right of the (10, 3, 177), and it would be able to test the sum of output given different inputs."
   ]
  },
  {
   "cell_type": "markdown",
   "metadata": {},
   "source": [
    "# Exercise 2 - Python DGEMM Benchmark Operation#"
   ]
  },
  {
   "cell_type": "markdown",
   "metadata": {},
   "source": [
    "### Task 2.1 \n",
    "Implement the DGEMM with matrices as NumPy array\n",
    "\n",
    "Original C code:"
   ]
  },
  {
   "cell_type": "code",
   "execution_count": 11,
   "metadata": {},
   "outputs": [],
   "source": [
    "# // Multiplying first and second matrices and storing it in result\n",
    "#    for (int i = 0; i < N; ++i) {\n",
    "#       for (int j = 0; j < N; ++j) {\n",
    "#          for (int k = 0; k < N; ++k) {\n",
    "#             C[i][j] = C[i][j] + A[i][k] * B[k][j];\n",
    "#          }\n",
    "#       }\n",
    "#    }"
   ]
  },
  {
   "cell_type": "markdown",
   "metadata": {},
   "source": [
    "Python translation of the C code:"
   ]
  },
  {
   "cell_type": "code",
   "execution_count": 12,
   "metadata": {},
   "outputs": [],
   "source": [
    "import numpy as np\n",
    "import timeit"
   ]
  },
  {
   "cell_type": "markdown",
   "metadata": {},
   "source": [
    "Uses psudo random number generator to deterministically generate the matrices A, B, and C. "
   ]
  },
  {
   "cell_type": "code",
   "execution_count": 13,
   "metadata": {},
   "outputs": [],
   "source": [
    "seed = 1\n",
    "N = 100\n",
    "np.random.seed(seed)\n",
    "\n",
    "A = np.random.randint(-N, N, (N, N))\n",
    "B = np.random.randint(-N, N, (N, N))\n",
    "C = np.random.randint(-N, N, (N, N))\n",
    "\n",
    "# print(\"A is : \\n\", A)\n",
    "# print(\"B is : \\n\", B)\n",
    "# print(\"C is : \\n\", C)"
   ]
  },
  {
   "cell_type": "markdown",
   "metadata": {},
   "source": [
    "Use logging to record the time taken to perform the DGEMM operation."
   ]
  },
  {
   "cell_type": "code",
   "execution_count": 14,
   "metadata": {},
   "outputs": [],
   "source": [
    "import logging\n",
    "\n",
    "# Configure logging\n",
    "logging.basicConfig(\n",
    "    format=\"%(levelname)s - %(message)s\", level=logging.INFO\n",
    ")\n",
    "logger = logging.getLogger(__name__)"
   ]
  },
  {
   "cell_type": "code",
   "execution_count": 15,
   "metadata": {},
   "outputs": [
    {
     "name": "stderr",
     "output_type": "stream",
     "text": [
      "INFO - Time taken for normal multiplication: 0.33744154195301235\n"
     ]
    }
   ],
   "source": [
    "def for_loop_matrix_multiplication(A, B, C, N):\n",
    "    start = timeit.default_timer()\n",
    "    for i in range(N):\n",
    "        for j in range(N):\n",
    "            for k in range(N):\n",
    "                C[i][j] += A[i][k] * B[k][j]\n",
    "    end = timeit.default_timer()\n",
    "\n",
    "    return (C, end - start)\n",
    "\n",
    "\n",
    "(output, for_loop_matrix_time) = for_loop_matrix_multiplication(A, B, C, N)\n",
    "logger.info(f\"Time taken for normal multiplication: {for_loop_matrix_time}\")\n",
    "# logger.info(\"Correct is: \\n\", output)"
   ]
  },
  {
   "cell_type": "code",
   "execution_count": 16,
   "metadata": {},
   "outputs": [
    {
     "name": "stderr",
     "output_type": "stream",
     "text": [
      "INFO - Time taken for normal multiplication: 0.00042449997272342443\n"
     ]
    }
   ],
   "source": [
    "def numpy_matrix_multiplication(A, B, C):\n",
    "    start = timeit.default_timer()\n",
    "    C += np.matmul(A, B)\n",
    "    end = timeit.default_timer()\n",
    "    return (C, end - start)\n",
    "\n",
    "\n",
    "(output, np_matrix_time) = numpy_matrix_multiplication(A, B, C)\n",
    "logger.info(f\"Time taken for normal multiplication: {np_matrix_time}\")\n",
    "# logger.info(\"Correct is: \\n\", output)"
   ]
  },
  {
   "cell_type": "markdown",
   "metadata": {},
   "source": [
    "### Task 2.2\n",
    "Below is the PyTest or IPyTest for the numpy matrix multiplication. The for-loop solution is seen as the correct solution for all cases:"
   ]
  },
  {
   "cell_type": "code",
   "execution_count": 17,
   "metadata": {},
   "outputs": [
    {
     "name": "stdout",
     "output_type": "stream",
     "text": [
      "\u001b[1m======================================= test session starts ========================================\u001b[0m\n",
      "platform darwin -- Python 3.12.2, pytest-8.3.5, pluggy-1.5.0\n",
      "rootdir: /Users/marcuscarlbom/Programming/github/hpc/A2\n",
      "collected 4 items\n",
      "\n",
      "t_2f34c20259584d9fbc048d5e3622caaa.py \u001b[32m.\u001b[0m\u001b[32m.\u001b[0m\u001b[32m.\u001b[0m\u001b[32m.\u001b[0m\u001b[32m                                                   [100%]\u001b[0m\n",
      "\n",
      "\u001b[32m======================================== \u001b[32m\u001b[1m4 passed\u001b[0m\u001b[32m in 0.38s\u001b[0m\u001b[32m =========================================\u001b[0m\n"
     ]
    }
   ],
   "source": [
    "%%ipytest -v\n",
    "\n",
    "@pytest.mark.parametrize(\"seed, size\", [(1, 10), (1, 50), (1, 100), (2, 10)])\n",
    "def test_numpy_matrix_multiplication(seed, size):\n",
    "    N = size\n",
    "    np.random.seed(seed)\n",
    "    A = np.random.randint(-N, N, (N, N))\n",
    "    B = np.random.randint(-N, N, (N, N))\n",
    "    C = np.random.randint(-N, N, (N, N))\n",
    "\n",
    "    assert np.array_equal(\n",
    "        numpy_matrix_multiplication(A, B, C)[0],\n",
    "        for_loop_matrix_multiplication(A, B, C, N)[0],\n",
    "    ), f\"Mismatch for seed={seed}, size={size}\""
   ]
  },
  {
   "cell_type": "markdown",
   "metadata": {},
   "source": [
    "Helper matrix generation function:"
   ]
  },
  {
   "cell_type": "code",
   "execution_count": 18,
   "metadata": {},
   "outputs": [],
   "source": [
    "def matrix_generator(seed, N):\n",
    "    np.random.seed(seed)\n",
    "    A = np.random.randint(-N, N, (N, N))\n",
    "    B = np.random.randint(-N, N, (N, N))\n",
    "    C = np.random.randint(-N, N, (N, N))\n",
    "    return (A, B, C)"
   ]
  },
  {
   "cell_type": "markdown",
   "metadata": {},
   "source": [
    "Timewise comparison of the matrix multiplications:"
   ]
  },
  {
   "cell_type": "code",
   "execution_count": 19,
   "metadata": {},
   "outputs": [
    {
     "name": "stdout",
     "output_type": "stream",
     "text": [
      "\u001b[1m======================================= test session starts ========================================\u001b[0m\n",
      "platform darwin -- Python 3.12.2, pytest-8.3.5, pluggy-1.5.0\n",
      "rootdir: /Users/marcuscarlbom/Programming/github/hpc/A2\n",
      "collected 1 item\n",
      "\n",
      "t_2f34c20259584d9fbc048d5e3622caaa.py "
     ]
    },
    {
     "name": "stderr",
     "output_type": "stream",
     "text": [
      "INFO - Testing for N = 10 with seed = 1 \n",
      "       Numpy-based time: 0.000010 seconds \n",
      "       For-loop-based time: 0.000371 seconds \n",
      " ---------------------------------------------\n",
      "INFO - Testing for N = 50 with seed = 1 \n",
      "       Numpy-based time: 0.000081 seconds \n",
      "       For-loop-based time: 0.045790 seconds \n",
      " ---------------------------------------------\n",
      "INFO - Testing for N = 10 with seed = 2 \n",
      "       Numpy-based time: 0.000006 seconds \n",
      "       For-loop-based time: 0.000339 seconds \n",
      " ---------------------------------------------\n",
      "INFO - Testing for N = 50 with seed = 2 \n",
      "       Numpy-based time: 0.000111 seconds \n",
      "       For-loop-based time: 0.044085 seconds \n",
      " ---------------------------------------------\n"
     ]
    },
    {
     "name": "stdout",
     "output_type": "stream",
     "text": [
      "\u001b[32m.\u001b[0m\u001b[32m                                                      [100%]\u001b[0m\n",
      "\n",
      "\u001b[32m======================================== \u001b[32m\u001b[1m1 passed\u001b[0m\u001b[32m in 0.10s\u001b[0m\u001b[32m =========================================\u001b[0m\n"
     ]
    }
   ],
   "source": [
    "%%ipytest -v\n",
    "\n",
    "@pytest.mark.parametrize(\"seeds, sizes\", [((1,2), (10,50))])\n",
    "def test_matrix_multiplication_performance(seeds, sizes):\n",
    "    for seed in seeds:\n",
    "        for N in sizes:\n",
    "            A, B, C = matrix_generator(seed, N)\n",
    "\n",
    "            C_numpy, time_numpy = numpy_matrix_multiplication(A, B, C.copy())\n",
    "            C_loop, time_loop = for_loop_matrix_multiplication(A, B, C.copy(), N)\n",
    "\n",
    "            logger.info(\n",
    "                f\"Testing for N = {N} with seed = {seed} \\n       Numpy-based time: {time_numpy:.6f} seconds \\n       For-loop-based time: {time_loop:.6f} seconds \\n {\"-\"*45}\"\n",
    "            )\n",
    "            \n",
    "            assert np.array_equal(C_numpy, C_loop), f\"Mismatch for seed={seed}, size={N}\""
   ]
  },
  {
   "cell_type": "markdown",
   "metadata": {},
   "source": [
    "### Task 2.3"
   ]
  },
  {
   "cell_type": "markdown",
   "metadata": {},
   "source": [
    "Timer function from assignment 1 changed from decorator to a function with some added functionality like confidence intervals."
   ]
  },
  {
   "cell_type": "code",
   "execution_count": 20,
   "metadata": {},
   "outputs": [],
   "source": [
    "from typing import Callable\n",
    "import scipy.stats as stats\n",
    "\n",
    "\n",
    "def timer(N, func: Callable, *args, **kwargs):\n",
    "    arr = np.zeros((10,))\n",
    "    result = None\n",
    "    for n in range(10):\n",
    "        start = timeit.default_timer()\n",
    "        result = func(*args, **kwargs)\n",
    "        end = timeit.default_timer()\n",
    "        arr[n] = end - start\n",
    "\n",
    "    mean = np.mean(arr)\n",
    "    sem = stats.sem(arr)\n",
    "    confidence = 0.95\n",
    "    interval = stats.t.interval(confidence, len(arr) - 1, loc=mean, scale=sem)\n",
    "    interval = (float(interval[0]), float(interval[1]))\n",
    "\n",
    "    logger.info(\n",
    "        f\"\"\"Function: {func.__name__} {N}x{N}\n",
    "       Average Execution Time: {mean:.6f} seconds \n",
    "       Standard Deviation: {arr.std():.6f} seconds \n",
    "       Min/Max: ({arr.min():.6f}, {arr.max():.6f}) seconds \n",
    "       95% Confidence Interval: {interval}\n",
    "        \"\"\"\n",
    "    )\n",
    "    return result\n"
   ]
  },
  {
   "cell_type": "markdown",
   "metadata": {},
   "source": [
    "Testing the timer function with the DGEMM functions:"
   ]
  },
  {
   "cell_type": "code",
   "execution_count": 29,
   "metadata": {},
   "outputs": [
    {
     "name": "stderr",
     "output_type": "stream",
     "text": [
      "INFO - Function: numpy_matrix_multiplication 10x10\n",
      "       Average Execution Time: 0.000007 seconds \n",
      "       Standard Deviation: 0.000014 seconds \n",
      "       Min/Max: (0.000002, 0.000048) seconds \n",
      "       95% Confidence Interval: (-3.225111042789893e-06, 1.731644069188066e-05)\n",
      "        \n",
      "INFO - Function: for_loop_matrix_multiplication 10x10\n",
      "       Average Execution Time: 0.000555 seconds \n",
      "       Standard Deviation: 0.000046 seconds \n",
      "       Min/Max: (0.000507, 0.000641) seconds \n",
      "       95% Confidence Interval: (0.0005205418271176978, 0.0005899747312835888)\n",
      "        \n",
      "INFO - Function: numpy_matrix_multiplication 100x100\n",
      "       Average Execution Time: 0.000492 seconds \n",
      "       Standard Deviation: 0.000042 seconds \n",
      "       Min/Max: (0.000460, 0.000597) seconds \n",
      "       95% Confidence Interval: (0.00045963237411777026, 0.0005236092221414065)\n",
      "        \n",
      "INFO - Function: for_loop_matrix_multiplication 100x100\n",
      "       Average Execution Time: 0.306981 seconds \n",
      "       Standard Deviation: 0.007693 seconds \n",
      "       Min/Max: (0.296084, 0.319007) seconds \n",
      "       95% Confidence Interval: (0.30117967622082664, 0.3127821487634631)\n",
      "        \n",
      "INFO - Function: numpy_matrix_multiplication 250x250\n",
      "       Average Execution Time: 0.004962 seconds \n",
      "       Standard Deviation: 0.000176 seconds \n",
      "       Min/Max: (0.004732, 0.005328) seconds \n",
      "       95% Confidence Interval: (0.004829117561689564, 0.005094474229031257)\n",
      "        \n",
      "INFO - Function: for_loop_matrix_multiplication 250x250\n",
      "       Average Execution Time: 4.688044 seconds \n",
      "       Standard Deviation: 0.131097 seconds \n",
      "       Min/Max: (4.519694, 4.915331) seconds \n",
      "       95% Confidence Interval: (4.589189656309464, 4.786898051926255)\n",
      "        \n"
     ]
    }
   ],
   "source": [
    "N = 10\n",
    "seed = 1\n",
    "A, B, C = matrix_generator(seed, N)\n",
    "\n",
    "_ = timer(N, numpy_matrix_multiplication, A, B, C)\n",
    "_ = timer(N, for_loop_matrix_multiplication, A, B, C, N)\n",
    "\n",
    "N = 100\n",
    "A, B, C = matrix_generator(seed, N)\n",
    "\n",
    "_ = timer(N, numpy_matrix_multiplication, A, B, C)\n",
    "_ = timer(N, for_loop_matrix_multiplication, A, B, C, N)\n",
    "\n",
    "N = 250\n",
    "A, B, C = matrix_generator(seed, N)\n",
    "\n",
    "_ = timer(N, numpy_matrix_multiplication, A, B, C)\n",
    "_ = timer(N, for_loop_matrix_multiplication, A, B, C, N)\n"
   ]
  },
  {
   "cell_type": "markdown",
   "metadata": {},
   "source": [
    "This is likely due to increased contention for CPU resources. As the problem size grows, execution time increases, making it more likely that the CPU scheduler will preempt the process to run other tasks, introducing variability. Even though the same number of calculations are performed in each run, interruptions from other processes can introduce inconsistencies in timing."
   ]
  },
  {
   "cell_type": "markdown",
   "metadata": {},
   "source": [
    "### Task 2.4\n",
    "Through math we can calculate that the expected FLOPS for a matrix multiplication of size n x n is [2n^3](https://docs.nvidia.com/deeplearning/performance/dl-performance-matrix-multiplication/index.html). Given this we can simply divide the expected FLOPS by the time taken to get the FLOPS per second of the function."
   ]
  },
  {
   "cell_type": "markdown",
   "metadata": {},
   "source": [
    "Redefine the timer function as flops to include the FLOPS per second calculation while excluding unnecessary data:"
   ]
  },
  {
   "cell_type": "code",
   "execution_count": 22,
   "metadata": {},
   "outputs": [],
   "source": [
    "def FLOPS(N, func: Callable, *args, **kwargs):\n",
    "    arr = np.zeros((10,))\n",
    "    for n in range(10):\n",
    "        start = timeit.default_timer()\n",
    "        _ = func(*args, **kwargs)\n",
    "        end = timeit.default_timer()\n",
    "        arr[n] = end - start\n",
    "\n",
    "    mean = np.mean(arr)\n",
    "    flops = 2 * N ** 3\n",
    "    flops /= mean\n",
    "    flops /= 1e9 # GigaFLOPS\n",
    "    return flops"
   ]
  },
  {
   "cell_type": "code",
   "execution_count": 23,
   "metadata": {},
   "outputs": [],
   "source": [
    "import matplotlib.pyplot as plt"
   ]
  },
  {
   "cell_type": "code",
   "execution_count": 24,
   "metadata": {},
   "outputs": [],
   "source": [
    "seed = 1\n",
    "\n",
    "sizes = [10,50,75,100,110,120,130,140,150,160,170,180,190,200]\n",
    "\n",
    "numpy_matrix_flops = np.zeros((len(sizes),), dtype=float)\n",
    "for_loop_matrix_flops = np.zeros((len(sizes),), dtype=float)\n",
    "\n",
    "for n in range(len(sizes)):\n",
    "    N = sizes[n]\n",
    "    A, B, C = matrix_generator(seed, N)\n",
    "    numpy_matrix_flops[n] = FLOPS(N, numpy_matrix_multiplication, A, B, C)\n",
    "    for_loop_matrix_flops[n] = FLOPS(N, for_loop_matrix_multiplication, A, B, C, N)"
   ]
  },
  {
   "cell_type": "code",
   "execution_count": 25,
   "metadata": {},
   "outputs": [
    {
     "data": {
      "image/png": "[encoded data removed]",
      "text/plain": [
       "<Figure size 1000x500 with 1 Axes>"
      ]
     },
     "metadata": {},
     "output_type": "display_data"
    },
    {
     "data": {
      "image/png": "[encoded data removed]",
      "text/plain": [
       "<Figure size 1000x500 with 1 Axes>"
      ]
     },
     "metadata": {},
     "output_type": "display_data"
    }
   ],
   "source": [
    "mean_numpy_flops = numpy_matrix_flops.mean()\n",
    "mean_for_loop_flops = for_loop_matrix_flops.mean()\n",
    "\n",
    "plt.figure(figsize=(10, 5))\n",
    "plt.plot(\n",
    "    sizes, numpy_matrix_flops, marker=\"o\", color=\"blue\", label=\"Numpy Matrix FLOPS\"\n",
    ")\n",
    "plt.axhline(\n",
    "    y=mean_numpy_flops,\n",
    "    color=\"blue\",\n",
    "    linestyle=\"--\",\n",
    "    label=f\"Mean: {mean_numpy_flops:.2f}\",\n",
    ")\n",
    "plt.xlabel(\"Matrix Size (N)\", fontsize=12)\n",
    "plt.ylabel(\"GigaFLOPS\", fontsize=12)\n",
    "plt.title(\"Numpy Matrix FLOPS Performance\", fontsize=14)\n",
    "plt.legend(fontsize=10)\n",
    "plt.grid(True)\n",
    "plt.show()\n",
    "\n",
    "plt.figure(figsize=(10, 5))\n",
    "plt.plot(\n",
    "    sizes,\n",
    "    for_loop_matrix_flops,\n",
    "    marker=\"s\",\n",
    "    color=\"orange\",\n",
    "    label=\"For Loop Matrix FLOPS\",\n",
    ")\n",
    "plt.axhline(\n",
    "    y=mean_for_loop_flops,\n",
    "    color=\"orange\",\n",
    "    linestyle=\"--\",\n",
    "    label=f\"Mean: {mean_for_loop_flops:.2f}\",\n",
    ")\n",
    "plt.xlabel(\"Matrix Size (N)\", fontsize=12)\n",
    "plt.ylabel(\"GigaFLOPS\", fontsize=12)\n",
    "plt.title(\"For Loop Matrix FLOPS Performance\", fontsize=14)\n",
    "plt.legend(fontsize=10)\n",
    "plt.grid(True)\n",
    "plt.show()"
   ]
  },
  {
   "cell_type": "markdown",
   "metadata": {},
   "source": [
    "There is some uncertainty in the GigaFLOPS calculation for smaller matrices but we can see that the values converge with larger matrices. The theoretical peak performance of my computer (M2 Mac Air) is 3.6 TFLOPs, for the numpy matrix multiplication we are getting around 4.3 GFLOPs which is around 0.12% of the peak performance."
   ]
  },
  {
   "cell_type": "code",
   "execution_count": 26,
   "metadata": {},
   "outputs": [
    {
     "name": "stderr",
     "output_type": "stream",
     "text": [
      "INFO - Numpy Matrix Utilization: 0.151083%\n",
      "INFO - For Loop Matrix Utilization: 0.000170%\n"
     ]
    }
   ],
   "source": [
    "theoretical_peak = 3600 # 3.6 TFLOPs\n",
    "numpy_utilization = mean_numpy_flops / theoretical_peak\n",
    "for_loop_utilization = mean_for_loop_flops / theoretical_peak\n",
    "logger.info(f\"Numpy Matrix Utilization: {(numpy_utilization*100):.6f}%\")\n",
    "logger.info(f\"For Loop Matrix Utilization: {(for_loop_utilization*100):.6f}%\")"
   ]
  },
  {
   "cell_type": "markdown",
   "metadata": {},
   "source": [
    "### Task 2.4\n",
    "THe above shown data is from the latest run on 6th of March instead of the previously mentioned and also using a M3 Pro Macbook instead. The results are very comparable as before. What can be seen using the NumPy Matrix way is that it is able to better utilize the computer's available computer power compared to the more naive for-loop implementation. This is due to the NumPy's more sophisticated and highly efficient BLAS implementation can better leverage the computer's CPU than the built in Python for-loops which involves more overhead and are interpreted instead of compiled. This all makes it so that using NumPy in this matter is highly more efficient in terms of utilizing computer capabilities. "
   ]
  },
  {
   "cell_type": "markdown",
   "metadata": {},
   "source": [
    "## Exercise 3 - Experiment with the Python Debugger\n",
    "### Task 3.1 Reflection: \n",
    "#### What are the advantages of using a debugger? \n",
    "The debugger allows for the step by step execution of code which can be useful for understanding the flow of the code and identifying errors. It can also be used to inspect the values of variables at different points in the code which can be useful for identifying the source of errors. The additional functionality of inserting custom commands is useful to avoid cluttering the original code and the pm() functionality is very useful to understand and recover from crashes.\n",
    "#### What challenges did you find in using the pdb debugger, if any?\n",
    "None in particular as the debugger is quite intuitive and easy to use. The only challenge is remembering the commands or more specifically their shorthands."
   ]
  },
  {
   "cell_type": "markdown",
   "metadata": {},
   "source": [
    "## Bonus Exercise - Performance Analysis and Optimization of the Game of Life Code"
   ]
  },
  {
   "cell_type": "markdown",
   "metadata": {},
   "source": [
    "Conways game of life courtesy of [Electronut](https://github.com/electronut/pp/blob/master/conway/conway.py):"
   ]
  },
  {
   "cell_type": "code",
   "execution_count": 31,
   "metadata": {},
   "outputs": [
    {
     "name": "stderr",
     "output_type": "stream",
     "text": [
      "usage: ipykernel_launcher.py [-h] [--grid-size N] [--mov-file MOVFILE]\n",
      "                             [--interval INTERVAL] [--glider] [--gosper]\n",
      "ipykernel_launcher.py: error: unrecognized arguments: --f=/Users/marcuscarlbom/Library/Jupyter/runtime/kernel-v3116f0b3839ec127280b9517ef47ef17137f7c480.json\n"
     ]
    },
    {
     "ename": "SystemExit",
     "evalue": "2",
     "output_type": "error",
     "traceback": [
      "An exception has occurred, use %tb to see the full traceback.\n",
      "\u001b[31mSystemExit\u001b[39m\u001b[31m:\u001b[39m 2\n"
     ]
    }
   ],
   "source": [
    "\"\"\"\n",
    "conway.py \n",
    "\n",
    "A simple Python/matplotlib implementation of Conway's Game of Life.\n",
    "\n",
    "Author: Mahesh Venkitachalam\n",
    "\"\"\"\n",
    "\n",
    "import sys, argparse\n",
    "import numpy as np\n",
    "import matplotlib.pyplot as plt\n",
    "import matplotlib.animation as animation\n",
    "\n",
    "ON = 255\n",
    "OFF = 0\n",
    "vals = [ON, OFF]\n",
    "\n",
    "\n",
    "def randomGrid(N):\n",
    "    \"\"\"returns a grid of NxN random values\"\"\"\n",
    "    return np.random.choice(vals, N * N, p=[0.2, 0.8]).reshape(N, N)\n",
    "\n",
    "\n",
    "def addGlider(i, j, grid):\n",
    "    \"\"\"adds a glider with top left cell at (i, j)\"\"\"\n",
    "    glider = np.array([[0, 0, 255], [255, 0, 255], [0, 255, 255]])\n",
    "    grid[i : i + 3, j : j + 3] = glider\n",
    "\n",
    "\n",
    "def addGosperGliderGun(i, j, grid):\n",
    "    \"\"\"adds a Gosper Glider Gun with top left cell at (i, j)\"\"\"\n",
    "    gun = np.zeros(11 * 38).reshape(11, 38)\n",
    "\n",
    "    gun[5][1] = gun[5][2] = 255\n",
    "    gun[6][1] = gun[6][2] = 255\n",
    "\n",
    "    gun[3][13] = gun[3][14] = 255\n",
    "    gun[4][12] = gun[4][16] = 255\n",
    "    gun[5][11] = gun[5][17] = 255\n",
    "    gun[6][11] = gun[6][15] = gun[6][17] = gun[6][18] = 255\n",
    "    gun[7][11] = gun[7][17] = 255\n",
    "    gun[8][12] = gun[8][16] = 255\n",
    "    gun[9][13] = gun[9][14] = 255\n",
    "\n",
    "    gun[1][25] = 255\n",
    "    gun[2][23] = gun[2][25] = 255\n",
    "    gun[3][21] = gun[3][22] = 255\n",
    "    gun[4][21] = gun[4][22] = 255\n",
    "    gun[5][21] = gun[5][22] = 255\n",
    "    gun[6][23] = gun[6][25] = 255\n",
    "    gun[7][25] = 255\n",
    "\n",
    "    gun[3][35] = gun[3][36] = 255\n",
    "    gun[4][35] = gun[4][36] = 255\n",
    "\n",
    "    grid[i : i + 11, j : j + 38] = gun\n",
    "\n",
    "\n",
    "def update(frameNum, img, grid, N):\n",
    "    # copy grid since we require 8 neighbors for calculation\n",
    "    # and we go line by line\n",
    "    newGrid = grid.copy()\n",
    "    for i in range(N):\n",
    "        for j in range(N):\n",
    "            # compute 8-neghbor sum\n",
    "            # using toroidal boundary conditions - x and y wrap around\n",
    "            # so that the simulaton takes place on a toroidal surface.\n",
    "            total = int(\n",
    "                (\n",
    "                    grid[i, (j - 1) % N]\n",
    "                    + grid[i, (j + 1) % N]\n",
    "                    + grid[(i - 1) % N, j]\n",
    "                    + grid[(i + 1) % N, j]\n",
    "                    + grid[(i - 1) % N, (j - 1) % N]\n",
    "                    + grid[(i - 1) % N, (j + 1) % N]\n",
    "                    + grid[(i + 1) % N, (j - 1) % N]\n",
    "                    + grid[(i + 1) % N, (j + 1) % N]\n",
    "                )\n",
    "                / 255\n",
    "            )\n",
    "            # apply Conway's rules\n",
    "            if grid[i, j] == ON:\n",
    "                if (total < 2) or (total > 3):\n",
    "                    newGrid[i, j] = OFF\n",
    "            else:\n",
    "                if total == 3:\n",
    "                    newGrid[i, j] = ON\n",
    "    # update data\n",
    "    img.set_data(newGrid)\n",
    "    grid[:] = newGrid[:]\n",
    "    return (img,)\n",
    "\n",
    "\n",
    "# main() function\n",
    "def main():\n",
    "    # Command line args are in sys.argv[1], sys.argv[2] ..\n",
    "    # sys.argv[0] is the script name itself and can be ignored\n",
    "    # parse arguments\n",
    "    parser = argparse.ArgumentParser(\n",
    "        description=\"Runs Conway's Game of Life simulation.\"\n",
    "    )\n",
    "    # add arguments\n",
    "    parser.add_argument(\"--grid-size\", dest=\"N\", required=False)\n",
    "    parser.add_argument(\"--mov-file\", dest=\"movfile\", required=False)\n",
    "    parser.add_argument(\"--interval\", dest=\"interval\", required=False)\n",
    "    parser.add_argument(\"--glider\", action=\"store_true\", required=False)\n",
    "    parser.add_argument(\"--gosper\", action=\"store_true\", required=False)\n",
    "    args = parser.parse_args()\n",
    "\n",
    "    # set grid size\n",
    "    N = 100\n",
    "    if args.N and int(args.N) > 8:\n",
    "        N = int(args.N)\n",
    "\n",
    "    # set animation update interval\n",
    "    updateInterval = 50\n",
    "    if args.interval:\n",
    "        updateInterval = int(args.interval)\n",
    "\n",
    "    # declare grid\n",
    "    grid = np.array([])\n",
    "    # check if \"glider\" demo flag is specified\n",
    "    if args.glider:\n",
    "        grid = np.zeros(N * N).reshape(N, N)\n",
    "        addGlider(1, 1, grid)\n",
    "    elif args.gosper:\n",
    "        grid = np.zeros(N * N).reshape(N, N)\n",
    "        addGosperGliderGun(10, 10, grid)\n",
    "    else:\n",
    "        # populate grid with random on/off - more off than on\n",
    "        grid = randomGrid(N)\n",
    "\n",
    "    # set up animation\n",
    "    fig, ax = plt.subplots()\n",
    "    img = ax.imshow(grid, interpolation=\"nearest\")\n",
    "    ani = animation.FuncAnimation(\n",
    "        fig,\n",
    "        update,\n",
    "        fargs=(\n",
    "            img,\n",
    "            grid,\n",
    "            N,\n",
    "        ),\n",
    "        frames=10,\n",
    "        interval=updateInterval,\n",
    "        save_count=50,\n",
    "    )\n",
    "\n",
    "    # # of frames?\n",
    "    # set output file\n",
    "    if args.movfile:\n",
    "        ani.save(args.movfile, fps=30, extra_args=[\"-vcodec\", \"libx264\"])\n",
    "\n",
    "    plt.show()\n",
    "\n",
    "\n",
    "# call main\n",
    "if __name__ == \"__main__\":\n",
    "    main()"
   ]
  },
  {
   "cell_type": "markdown",
   "metadata": {},
   "source": [
    "Results from running the code using cProfiler and having different grid sizes (as seen above but by also removing animation features)\n",
    "\n",
    "100, 1.025s\n",
    "\n",
    "200, 2.563s\n",
    "\n",
    "400, 9.512s\n",
    "\n",
    "800, 37.110s\n"
   ]
  },
  {
   "cell_type": "code",
   "execution_count": null,
   "metadata": {},
   "outputs": [],
   "source": [
    "x = [100, 200, 400, 800]\n",
    "y = [1.025, 2.563, 9.512, 37.110]\n",
    "\n",
    "plt.figure(figsize=(8, 6))\n",
    "plt.plot(x, y, marker='o', linestyle='-', color='b', label='Execution Time')\n",
    "plt.title('Execution Time vs Input Size', fontsize=16)\n",
    "plt.xlabel('Input Size', fontsize=14)\n",
    "plt.ylabel('Execution Time (seconds)', fontsize=14)\n",
    "plt.grid(True, linestyle='--', alpha=0.6)\n",
    "plt.legend(fontsize=12)\n",
    "plt.tight_layout()\n",
    "plt.show()\n"
   ]
  },
  {
   "cell_type": "markdown",
   "metadata": {},
   "source": [
    "We decided to use cProfiler and line_profiler to check where the perfomance bottlenecks are. cProfile showed that the largest bottleneck is in the function run_one_step. Using the more fine-grained result from line_profiler showed that the majority of the bottleneck, 50%, was in the line of grid. This means that making a better matrix system would result in the best performance gain."
   ]
  },
  {
   "cell_type": "markdown",
   "metadata": {},
   "source": [
    "As asked for screenshots shows here newly run examples of what is explained above. The found bottleneck of run_one_step is the name we have in our code but the name given in the repo is \"update\". This is where the rest of the code and explanation is based off of. See below the screenshot for cProfiler then lineProfiler:\n",
    "\n",
    "![Alt Text](image.png)\n",
    "\n",
    "Below is the lineProfiler which shows about the same result as previously mentioned of 50% when handling the grid:\n",
    "\n",
    "![Alt Text](image2.png)\n",
    "\n",
    "If recompiled again these images disappear, beware.\n"
   ]
  },
  {
   "cell_type": "markdown",
   "metadata": {},
   "source": [
    "Our changes consist of making it possible to run it without ui by giving the flag --no-gui and also optimizing the matrix calcuations. This can be seen in the new update function run_one_step()."
   ]
  },
  {
   "cell_type": "code",
   "execution_count": null,
   "metadata": {},
   "outputs": [],
   "source": [
    "\"\"\"\n",
    "conway.py\n",
    "\n",
    "A simple Python/matplotlib implementation of Conway's Game of Life.\n",
    "\n",
    "Author: Mahesh Venkitachalam\n",
    "\"\"\"\n",
    "\n",
    "import argparse\n",
    "import sys\n",
    "\n",
    "import matplotlib.animation as animation\n",
    "import matplotlib.pyplot as plt\n",
    "import numpy as np\n",
    "from scipy.signal import convolve2d\n",
    "\n",
    "ON = 255\n",
    "OFF = 0\n",
    "vals = [ON, OFF]\n",
    "\n",
    "\n",
    "def randomGrid(N):\n",
    "    \"\"\"returns a grid of NxN random values\"\"\"\n",
    "    return np.random.choice(vals, N * N, p=[0.2, 0.8]).reshape(N, N)\n",
    "\n",
    "\n",
    "def addGlider(i, j, grid):\n",
    "    \"\"\"adds a glider with top left cell at (i, j)\"\"\"\n",
    "    glider = np.array([[0, 0, 255], [255, 0, 255], [0, 255, 255]])\n",
    "    grid[i : i + 3, j : j + 3] = glider\n",
    "\n",
    "\n",
    "def addGosperGliderGun(i, j, grid):\n",
    "    \"\"\"adds a Gosper Glider Gun with top left cell at (i, j)\"\"\"\n",
    "    gun = np.zeros(11 * 38).reshape(11, 38)\n",
    "\n",
    "    gun[5][1] = gun[5][2] = 255\n",
    "    gun[6][1] = gun[6][2] = 255\n",
    "\n",
    "    gun[3][13] = gun[3][14] = 255\n",
    "    gun[4][12] = gun[4][16] = 255\n",
    "    gun[5][11] = gun[5][17] = 255\n",
    "    gun[6][11] = gun[6][15] = gun[6][17] = gun[6][18] = 255\n",
    "    gun[7][11] = gun[7][17] = 255\n",
    "    gun[8][12] = gun[8][16] = 255\n",
    "    gun[9][13] = gun[9][14] = 255\n",
    "\n",
    "    gun[1][25] = 255\n",
    "    gun[2][23] = gun[2][25] = 255\n",
    "    gun[3][21] = gun[3][22] = 255\n",
    "    gun[4][21] = gun[4][22] = 255\n",
    "    gun[5][21] = gun[5][22] = 255\n",
    "    gun[6][23] = gun[6][25] = 255\n",
    "    gun[7][25] = 255\n",
    "\n",
    "    gun[3][35] = gun[3][36] = 255\n",
    "    gun[4][35] = gun[4][36] = 255\n",
    "\n",
    "    grid[i : i + 11, j : j + 38] = gun\n",
    "\n",
    "\n",
    "def update(frameNum, img, grid, N):\n",
    "    # copy grid since we require 8 neighbors for calculation\n",
    "    # and we go line by line\n",
    "    newGrid = grid.copy()\n",
    "    for i in range(N):\n",
    "        for j in range(N):\n",
    "            # compute 8-neghbor sum\n",
    "            # using toroidal boundary conditions - x and y wrap around\n",
    "            # so that the simulaton takes place on a toroidal surface.\n",
    "            total = int(\n",
    "                (\n",
    "                    grid[i, (j - 1) % N]\n",
    "                    + grid[i, (j + 1) % N]\n",
    "                    + grid[(i - 1) % N, j]\n",
    "                    + grid[(i + 1) % N, j]\n",
    "                    + grid[(i - 1) % N, (j - 1) % N]\n",
    "                    + grid[(i - 1) % N, (j + 1) % N]\n",
    "                    + grid[(i + 1) % N, (j - 1) % N]\n",
    "                    + grid[(i + 1) % N, (j + 1) % N]\n",
    "                )\n",
    "                / 255\n",
    "            )\n",
    "            # apply Conway's rules\n",
    "            if grid[i, j] == ON:\n",
    "                if (total < 2) or (total > 3):\n",
    "                    newGrid[i, j] = OFF\n",
    "            else:\n",
    "                if total == 3:\n",
    "                    newGrid[i, j] = ON\n",
    "    # update data\n",
    "    img.set_data(newGrid)\n",
    "    grid[:] = newGrid[:]\n",
    "    return (img,)\n",
    "\n",
    "\n",
    "def run_one_step(grid, N):\n",
    "    newGrid = grid.copy()\n",
    "    neighbors_count = (\n",
    "        np.roll(grid, 1, axis=0)\n",
    "        + np.roll(grid, -1, axis=0)\n",
    "        + np.roll(grid, 1, axis=1)\n",
    "        + np.roll(grid, -1, axis=1)\n",
    "        + np.roll(np.roll(grid, 1, axis=0), 1, axis=1)\n",
    "        + np.roll(np.roll(grid, 1, axis=0), -1, axis=1)\n",
    "        + np.roll(np.roll(grid, -1, axis=0), 1, axis=1)\n",
    "        + np.roll(np.roll(grid, -1, axis=0), -1, axis=1)\n",
    "    ) // 255\n",
    "    for i in range(N):\n",
    "        for j in range(N):\n",
    "            if grid[i, j] == ON:\n",
    "                if (neighbors_count[i, j] < 2) or (neighbors_count[i, j] > 3):\n",
    "                    newGrid[i, j] = OFF\n",
    "            else:\n",
    "                if neighbors_count[i, j] == 3:\n",
    "                    newGrid[i, j] = ON\n",
    "    return newGrid\n",
    "\n",
    "\n",
    "# main() function\n",
    "def main():\n",
    "    # Command line args are in sys.argv[1], sys.argv[2] ..\n",
    "    # sys.argv[0] is the script name itself and can be ignored\n",
    "    # parse arguments\n",
    "    parser = argparse.ArgumentParser(\n",
    "        description=\"Runs Conway's Game of Life simulation.\"\n",
    "    )\n",
    "    # add arguments\n",
    "    parser.add_argument(\"--grid-size\", dest=\"N\", required=False)\n",
    "    parser.add_argument(\"--mov-file\", dest=\"movfile\", required=False)\n",
    "    parser.add_argument(\"--interval\", dest=\"interval\", required=False)\n",
    "    parser.add_argument(\"--glider\", action=\"store_true\", required=False)\n",
    "    parser.add_argument(\n",
    "        \"--no-gui\",\n",
    "        action=\"store_true\",\n",
    "        required=False,\n",
    "    )\n",
    "    parser.add_argument(\"--gosper\", action=\"store_true\", required=False)\n",
    "    args = parser.parse_args()\n",
    "\n",
    "    # set grid size\n",
    "    N = 100\n",
    "    if args.N and int(args.N) > 8:\n",
    "        N = int(args.N)\n",
    "\n",
    "    # set animation update interval\n",
    "    updateInterval = 50\n",
    "    if args.interval:\n",
    "        updateInterval = int(args.interval)\n",
    "\n",
    "    # declare grid\n",
    "    grid = np.array([])\n",
    "    # check if \"glider\" demo flag is specified\n",
    "    if args.glider:\n",
    "        grid = np.zeros(N * N).reshape(N, N)\n",
    "        addGlider(1, 1, grid)\n",
    "    elif args.gosper:\n",
    "        grid = np.zeros(N * N).reshape(N, N)\n",
    "        addGosperGliderGun(10, 10, grid)\n",
    "    else:\n",
    "        # populate grid with random on/off - more off than on\n",
    "        grid = randomGrid(N)\n",
    "\n",
    "    # If --no-gui is set, just run the update loop for X iterations\n",
    "    if args.no_gui:\n",
    "        iterations = 50  # example fixed number of iterations\n",
    "        for _ in range(iterations):\n",
    "            grid = run_one_step(grid, N)\n",
    "        sys.exit(0)  # end here\n",
    "\n",
    "    # set up animation\n",
    "    fig, ax = plt.subplots()\n",
    "    img = ax.imshow(grid, interpolation=\"nearest\")\n",
    "    ani = animation.FuncAnimation(\n",
    "        fig,\n",
    "        update,\n",
    "        fargs=(\n",
    "            img,\n",
    "            grid,\n",
    "            N,\n",
    "        ),\n",
    "        frames=10,\n",
    "        interval=updateInterval,\n",
    "        save_count=50,\n",
    "    )\n",
    "\n",
    "    # # of frames?\n",
    "    # set output file\n",
    "    if args.movfile:\n",
    "        ani.save(args.movfile, fps=30, extra_args=[\"-vcodec\", \"libx264\"])\n",
    "\n",
    "    plt.show()\n",
    "\n",
    "\n",
    "# call main\n",
    "if __name__ == \"__main__\":\n",
    "    main()\n"
   ]
  },
  {
   "cell_type": "markdown",
   "metadata": {},
   "source": [
    "The most efficient way to better the performance on the grid is to not use python built-in matrix management tools. By doing the entire calculation on the grid at the start using np.roll, which are efficient and quick operations to do using NumPy, we manage to make it a lot faster than before. Adding together all 8 matrices into one is very quick for NumPu and is a quick way to have a matrix containing the number of neighbours. Using line_profiler shows now that the entire part of calculating the grid takes only 0.9% of execution time instead of 50%. The results using cProfiler shows that the optimized code had the results of:\n",
    "\n",
    "| Grid size | Time (s) |\n",
    "|-----------|----------|\n",
    "| 100 | 1.122 |\n",
    "| 200 | 1.250 |\n",
    "| 400 | 2.688 |\n",
    "| 800 | 7.349 |\n",
    "\n",
    "There was a decrease in performance compared to previous code when running at matrices sized 100x100, running about 0.1s slower. However it had a noticeable improvement at higher matrix sizes like N = 200, 400 and 800. It showed at 800 to have an improvement of 30 seconds, about a fifth of the total execution time when using the old code."
   ]
  },
  {
   "cell_type": "code",
   "execution_count": null,
   "metadata": {},
   "outputs": [],
   "source": [
    "x = [100, 200, 400, 800]\n",
    "y = [1.122, 1.250, 2.688, 7.349]\n",
    "\n",
    "plt.figure(figsize=(8, 6))\n",
    "plt.plot(x, y, marker='o', linestyle='-', color='b', label='Execution Time')\n",
    "plt.title('Execution Time vs Input Size', fontsize=16)\n",
    "plt.xlabel('Input Size', fontsize=14)\n",
    "plt.ylabel('Execution Time (seconds)', fontsize=14)\n",
    "plt.grid(True, linestyle='--', alpha=0.6)\n",
    "plt.legend(fontsize=12)\n",
    "plt.tight_layout()\n",
    "plt.show()"
   ]
  },
  {
   "cell_type": "markdown",
   "metadata": {},
   "source": [
    "By profiling this code we now saw that the biggest bottleneck was the O(N^2) for-loop in the run_one_step function. By creating truth matrices combined with np.where we were able to remove the for-loop and make the code more efficient."
   ]
  },
  {
   "cell_type": "code",
   "execution_count": null,
   "metadata": {},
   "outputs": [],
   "source": [
    "def run_one_step(grid, N):\n",
    "    new_grid = grid.copy()\n",
    "    neighbors_count = (\n",
    "        np.roll(grid, 1, axis=0)\n",
    "        + np.roll(grid, -1, axis=0)\n",
    "        + np.roll(grid, 1, axis=1)\n",
    "        + np.roll(grid, -1, axis=1)\n",
    "        + np.roll(grid, (1, 1), axis=(0, 1))\n",
    "        + np.roll(grid, (-1, -1), axis=(0, 1))\n",
    "        + np.roll(grid, (-1, 1), axis=(0, 1))\n",
    "        + np.roll(grid, (1, -1), axis=(0, 1))\n",
    "    ) // 1\n",
    "    survivor = ((neighbors_count == 2) | (neighbors_count == 3)) & (grid == ON)\n",
    "    new_born = (neighbors_count == 3) & (grid == OFF)\n",
    "    new_grid = np.where(new_born | survivor, ON, OFF).astype(int)\n",
    "    return new_grid"
   ]
  },
  {
   "cell_type": "markdown",
   "metadata": {},
   "source": [
    "The results are now:\n",
    "\n",
    "| Grid size | Time (s) |\n",
    "|-----------|------|\n",
    "| 100       | 0.474 |\n",
    "| 200       | 0.490 |\n",
    "| 400       | 0.443 |\n",
    "| 800       | 0.712 |\n",
    "\n",
    "which is a significant improvement in performance compared to the previous code."
   ]
  },
  {
   "cell_type": "code",
   "execution_count": null,
   "metadata": {},
   "outputs": [],
   "source": [
    "logger.info(\n",
    "    f\"It is {1.122 / 0.474 :.6f} times faster at grid size 100.\"\n",
    ")\n",
    "logger.info(\n",
    "    f\"It is {1.250 / 0.490 :.6f} times faster at grid size 200.\"\n",
    ")\n",
    "logger.info(\n",
    "    f\"It is { 2.688 / 0.443 :.6f} times faster at grid size 400.\"\n",
    ")\n",
    "logger.info(\n",
    "    f\"It is {7.349 / 0.712 :.6f} times faster at grid size 800.\"\n",
    ")"
   ]
  },
  {
   "cell_type": "code",
   "execution_count": null,
   "metadata": {},
   "outputs": [],
   "source": [
    "x = [100, 200, 400, 800]\n",
    "y = [0.474, 0.490, 0.443, 0.712]\n",
    "\n",
    "plt.figure(figsize=(8, 6))\n",
    "plt.plot(x, y, marker=\"o\", linestyle=\"-\", color=\"b\", label=\"Execution Time\")\n",
    "plt.title(\"Execution Time vs Input Size\", fontsize=16)\n",
    "plt.xlabel(\"Input Size\", fontsize=14)\n",
    "plt.ylabel(\"Execution Time (seconds)\", fontsize=14)\n",
    "plt.grid(True, linestyle=\"--\", alpha=0.6)\n",
    "plt.legend(fontsize=12)\n",
    "plt.tight_layout()\n",
    "plt.show()\n"
   ]
  }
 ],
 "metadata": {
  "kernelspec": {
   "display_name": "myenv",
   "language": "python",
   "name": "python3"
  },
  "language_info": {
   "codemirror_mode": {
    "name": "ipython",
    "version": 3
   },
   "file_extension": ".py",
   "mimetype": "text/x-python",
   "name": "python",
   "nbconvert_exporter": "python",
   "pygments_lexer": "ipython3",
   "version": "3.12.2"
  }
 },
 "nbformat": 4,
 "nbformat_minor": 4
}
