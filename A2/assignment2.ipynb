{
 "cells": [
  {
   "cell_type": "markdown",
   "metadata": {},
   "source": [
    "## Assignment II: Data Structures and Methods for HPC"
   ]
  },
  {
   "cell_type": "markdown",
   "metadata": {},
   "source": [
    "# Exercise 1 - Pytest with Julia Set Code"
   ]
  },
  {
   "cell_type": "markdown",
   "metadata": {},
   "source": [
    "Julia code with assert statement removed and replaced with a return of output for the function."
   ]
  },
  {
   "cell_type": "code",
   "execution_count": 52,
   "metadata": {},
   "outputs": [
    {
     "name": "stdout",
     "output_type": "stream",
     "text": [
      "Length of x: 1000\n",
      "Total elements: 1000000\n",
      "calculate_z_serial_purepython took 4.2690041065216064 seconds\n",
      "the sum is:  33219980\n"
     ]
    }
   ],
   "source": [
    "\"\"\"Julia set generator without optional PIL-based image drawing\"\"\"\n",
    "import time\n",
    "from functools import wraps\n",
    "\n",
    "# area of complex space to investigate\n",
    "x1, x2, y1, y2 = -1.8, 1.8, -1.8, 1.8\n",
    "c_real, c_imag = -0.62772, -0.42193\n",
    "\n",
    "\n",
    "# decorator to time\n",
    "def timefn(fn):\n",
    "    @wraps(fn)\n",
    "    def measure_time(*args, **kwargs):\n",
    "        t1 = time.time()\n",
    "        result = fn(*args, **kwargs)\n",
    "        t2 = time.time()\n",
    "        print(f\"@timefn: {fn.__name__} took {t2 - t1} seconds\")\n",
    "        return result\n",
    "\n",
    "    return measure_time\n",
    "\n",
    "\n",
    "def calc_pure_python(desired_width, max_iterations):\n",
    "    \"\"\"Create a list of complex coordinates (zs) and complex parameters (cs),\n",
    "    build Julia set\"\"\"\n",
    "    x_step = (x2 - x1) / desired_width\n",
    "    y_step = (y1 - y2) / desired_width\n",
    "    x = []\n",
    "    y = []\n",
    "    ycoord = y2\n",
    "    while ycoord > y1:\n",
    "        y.append(ycoord)\n",
    "        ycoord += y_step\n",
    "    xcoord = x1\n",
    "    while xcoord < x2:\n",
    "        x.append(xcoord)\n",
    "        xcoord += x_step\n",
    "    # build a list of coordinates and the initial condition for each cell.\n",
    "    # Note that our initial condition is a constant and could easily be removed,\n",
    "    # we use it to simulate a real-world scenario with several inputs to our\n",
    "    # function\n",
    "    zs = []\n",
    "    cs = []\n",
    "    for ycoord in y:\n",
    "        for xcoord in x:\n",
    "            zs.append(complex(xcoord, ycoord))\n",
    "            cs.append(complex(c_real, c_imag))\n",
    "\n",
    "    print(\"Length of x:\", len(x))\n",
    "    print(\"Total elements:\", len(zs))\n",
    "    start_time = time.time()\n",
    "    output = calculate_z_serial_purepython(max_iterations, zs, cs)\n",
    "    end_time = time.time()\n",
    "    secs = end_time - start_time\n",
    "    print(calculate_z_serial_purepython.__name__ + \" took\", secs, \"seconds\")\n",
    "\n",
    "    print(\"the sum is: \", sum(output))\n",
    "\n",
    "    return output\n",
    "\n",
    "\n",
    "def calculate_z_serial_purepython(maxiter, zs, cs):\n",
    "    \"\"\"Calculate output list using Julia update rule\"\"\"\n",
    "    output = [0] * len(zs)\n",
    "    for i in range(len(zs)):\n",
    "        n = 0\n",
    "        z = zs[i]\n",
    "        c = cs[i]\n",
    "        while abs(z) < 2 and n < maxiter:\n",
    "            z = z * z + c\n",
    "            n += 1\n",
    "        output[i] = n\n",
    "    return output\n",
    "\n",
    "\n",
    "if __name__ == \"__main__\":\n",
    "    # Calculate the Julia set using a pure Python solution with\n",
    "    # reasonable defaults for a laptop\n",
    "    calc_pure_python(desired_width=1000, max_iterations=300)"
   ]
  },
  {
   "cell_type": "markdown",
   "metadata": {},
   "source": [
    "Pytest of the function which replaced the assert statment and accounts for multiple test cases and dimensions."
   ]
  },
  {
   "cell_type": "code",
   "execution_count": 53,
   "metadata": {},
   "outputs": [],
   "source": [
    "import ipytest\n",
    "import pytest\n",
    "ipytest.autoconfig()"
   ]
  },
  {
   "cell_type": "code",
   "execution_count": 54,
   "metadata": {},
   "outputs": [
    {
     "name": "stdout",
     "output_type": "stream",
     "text": [
      "\u001b[1m======================================= test session starts ========================================\u001b[0m\n",
      "platform darwin -- Python 3.13.1, pytest-8.3.4, pluggy-1.5.0\n",
      "rootdir: /Users/albinww/Programming/Github/hpc/A2\n",
      "plugins: anyio-4.8.0\n",
      "collected 2 items\n",
      "\n",
      "t_dbf11df9629d4d8e98f1eb3c608d37d2.py \u001b[32m.\u001b[0m\u001b[32m.\u001b[0m\u001b[32m                                                     [100%]\u001b[0m\n",
      "\n",
      "\u001b[32m======================================== \u001b[32m\u001b[1m2 passed\u001b[0m\u001b[32m in 4.60s\u001b[0m\u001b[32m =========================================\u001b[0m\n"
     ]
    }
   ],
   "source": [
    "%%ipytest -v\n",
    "\n",
    "@pytest.mark.parametrize('width, iterations, expected', [(1000, 300, 33219980), (10, 3, 177)])\n",
    "def test_calc_pure_python(width, iterations, expected):\n",
    "    output = calc_pure_python(width, iterations)\n",
    "    assert sum(output) == expected"
   ]
  },
  {
   "cell_type": "markdown",
   "metadata": {},
   "source": [
    "To include unit tests with different numbers or iterations, an expected value is necessary but easily implemented in the above code as another tuple in the list. Add one tuple after the two given cases, right of the (10, 3, 177), and it would be able to test the sum of output given different inputs."
   ]
  },
  {
   "cell_type": "markdown",
   "metadata": {},
   "source": [
    "# Exercise 2 - Python DGEMM Benchmark Operation#"
   ]
  },
  {
   "cell_type": "markdown",
   "metadata": {},
   "source": [
    "### Task 2.1 \n",
    "Implement the DGEMM with matrices as NumPy array\n",
    "\n",
    "Original C code:"
   ]
  },
  {
   "cell_type": "code",
   "execution_count": 55,
   "metadata": {},
   "outputs": [],
   "source": [
    "# // Multiplying first and second matrices and storing it in result\n",
    "#    for (int i = 0; i < N; ++i) {\n",
    "#       for (int j = 0; j < N; ++j) {\n",
    "#          for (int k = 0; k < N; ++k) {\n",
    "#             C[i][j] = C[i][j] + A[i][k] * B[k][j];\n",
    "#          }\n",
    "#       }\n",
    "#    }"
   ]
  },
  {
   "cell_type": "markdown",
   "metadata": {},
   "source": [
    "Python translation of the C code:"
   ]
  },
  {
   "cell_type": "code",
   "execution_count": 56,
   "metadata": {},
   "outputs": [],
   "source": [
    "import numpy as np\n",
    "import timeit"
   ]
  },
  {
   "cell_type": "markdown",
   "metadata": {},
   "source": [
    "Uses psudo random number generator to deterministically generate the matrices A, B, and C. "
   ]
  },
  {
   "cell_type": "code",
   "execution_count": 57,
   "metadata": {},
   "outputs": [],
   "source": [
    "seed = 1\n",
    "N = 100\n",
    "np.random.seed(seed)\n",
    "\n",
    "A = np.random.randint(-N, N, (N, N))\n",
    "B = np.random.randint(-N, N, (N, N))\n",
    "C = np.random.randint(-N, N, (N, N))\n",
    "\n",
    "# print(\"A is : \\n\", A)\n",
    "# print(\"B is : \\n\", B)\n",
    "# print(\"C is : \\n\", C)"
   ]
  },
  {
   "cell_type": "markdown",
   "metadata": {},
   "source": [
    "Use logging to record the time taken to perform the DGEMM operation."
   ]
  },
  {
   "cell_type": "code",
   "execution_count": 58,
   "metadata": {},
   "outputs": [],
   "source": [
    "import logging\n",
    "\n",
    "# Configure logging\n",
    "logging.basicConfig(\n",
    "    format=\"%(levelname)s - %(message)s\", level=logging.INFO\n",
    ")\n",
    "logger = logging.getLogger(__name__)"
   ]
  },
  {
   "cell_type": "code",
   "execution_count": 59,
   "metadata": {},
   "outputs": [
    {
     "name": "stderr",
     "output_type": "stream",
     "text": [
      "INFO - Time taken for normal multiplication: 0.6931215830263682\n"
     ]
    }
   ],
   "source": [
    "def for_loop_matrix_multiplication(A, B, C, N):\n",
    "    start = timeit.default_timer()\n",
    "    for i in range(N):\n",
    "        for j in range(N):\n",
    "            for k in range(N):\n",
    "                C[i][j] += A[i][k] * B[k][j]\n",
    "    end = timeit.default_timer()\n",
    "\n",
    "    return (C, end - start)\n",
    "\n",
    "\n",
    "(output, for_loop_matrix_time) = for_loop_matrix_multiplication(A, B, C, N)\n",
    "logger.info(f\"Time taken for normal multiplication: {for_loop_matrix_time}\")\n",
    "# logger.info(\"Correct is: \\n\", output)"
   ]
  },
  {
   "cell_type": "code",
   "execution_count": 60,
   "metadata": {},
   "outputs": [
    {
     "name": "stderr",
     "output_type": "stream",
     "text": [
      "INFO - Time taken for normal multiplication: 0.004658457997720689\n"
     ]
    }
   ],
   "source": [
    "def numpy_matrix_multiplication(A, B, C):\n",
    "    start = timeit.default_timer()\n",
    "    C += np.matmul(A, B)\n",
    "    end = timeit.default_timer()\n",
    "    return (C, end - start)\n",
    "\n",
    "\n",
    "(output, np_matrix_time) = numpy_matrix_multiplication(A, B, C)\n",
    "logger.info(f\"Time taken for normal multiplication: {np_matrix_time}\")\n",
    "# logger.info(\"Correct is: \\n\", output)"
   ]
  },
  {
   "cell_type": "markdown",
   "metadata": {},
   "source": [
    "### Task 2.2\n",
    "Below is the PyTest or IPyTest for the numpy matrix multiplication. The for-loop solution is seen as the correct solution for all cases:"
   ]
  },
  {
   "cell_type": "code",
   "execution_count": 61,
   "metadata": {},
   "outputs": [
    {
     "name": "stdout",
     "output_type": "stream",
     "text": [
      "\u001b[1m======================================= test session starts ========================================\u001b[0m\n",
      "platform darwin -- Python 3.13.1, pytest-8.3.4, pluggy-1.5.0\n",
      "rootdir: /Users/albinww/Programming/Github/hpc/A2\n",
      "plugins: anyio-4.8.0\n",
      "collected 4 items\n",
      "\n",
      "t_dbf11df9629d4d8e98f1eb3c608d37d2.py \u001b[32m.\u001b[0m\u001b[32m.\u001b[0m\u001b[32m.\u001b[0m\u001b[32m.\u001b[0m\u001b[32m                                                   [100%]\u001b[0m\n",
      "\n",
      "\u001b[32m======================================== \u001b[32m\u001b[1m4 passed\u001b[0m\u001b[32m in 0.74s\u001b[0m\u001b[32m =========================================\u001b[0m\n"
     ]
    }
   ],
   "source": [
    "%%ipytest -v\n",
    "\n",
    "@pytest.mark.parametrize(\"seed, size\", [(1, 10), (1, 50), (1, 100), (2, 10)])\n",
    "def test_numpy_matrix_multiplication(seed, size):\n",
    "    N = size\n",
    "    np.random.seed(seed)\n",
    "    A = np.random.randint(-N, N, (N, N))\n",
    "    B = np.random.randint(-N, N, (N, N))\n",
    "    C = np.random.randint(-N, N, (N, N))\n",
    "\n",
    "    assert np.array_equal(\n",
    "        numpy_matrix_multiplication(A, B, C)[0],\n",
    "        for_loop_matrix_multiplication(A, B, C, N)[0],\n",
    "    ), f\"Mismatch for seed={seed}, size={size}\""
   ]
  },
  {
   "cell_type": "markdown",
   "metadata": {},
   "source": [
    "Helper matrix generation function:"
   ]
  },
  {
   "cell_type": "code",
   "execution_count": 62,
   "metadata": {},
   "outputs": [],
   "source": [
    "def matrix_generator(seed, N):\n",
    "    np.random.seed(seed)\n",
    "    A = np.random.randint(-N, N, (N, N))\n",
    "    B = np.random.randint(-N, N, (N, N))\n",
    "    C = np.random.randint(-N, N, (N, N))\n",
    "    return (A, B, C)"
   ]
  },
  {
   "cell_type": "markdown",
   "metadata": {},
   "source": [
    "Timewise comparison of the matrix multiplications:"
   ]
  },
  {
   "cell_type": "code",
   "execution_count": 63,
   "metadata": {},
   "outputs": [
    {
     "name": "stdout",
     "output_type": "stream",
     "text": [
      "\u001b[1m======================================= test session starts ========================================\u001b[0m\n",
      "platform darwin -- Python 3.13.1, pytest-8.3.4, pluggy-1.5.0\n",
      "rootdir: /Users/albinww/Programming/Github/hpc/A2\n",
      "plugins: anyio-4.8.0\n",
      "collected 1 item\n",
      "\n",
      "t_dbf11df9629d4d8e98f1eb3c608d37d2.py "
     ]
    },
    {
     "name": "stderr",
     "output_type": "stream",
     "text": [
      "INFO - Testing for N = 10 with seed = 1 \n",
      "       Numpy-based time: 0.000013 seconds \n",
      "       For-loop-based time: 0.001120 seconds \n",
      " ---------------------------------------------\n",
      "INFO - Testing for N = 50 with seed = 1 \n",
      "       Numpy-based time: 0.000185 seconds \n",
      "       For-loop-based time: 0.109833 seconds \n",
      " ---------------------------------------------\n",
      "INFO - Testing for N = 10 with seed = 2 \n",
      "       Numpy-based time: 0.000011 seconds \n",
      "       For-loop-based time: 0.000655 seconds \n",
      " ---------------------------------------------\n",
      "INFO - Testing for N = 50 with seed = 2 \n",
      "       Numpy-based time: 0.000164 seconds \n",
      "       For-loop-based time: 0.103357 seconds \n",
      " ---------------------------------------------\n"
     ]
    },
    {
     "name": "stdout",
     "output_type": "stream",
     "text": [
      "\u001b[32m.\u001b[0m\u001b[32m                                                      [100%]\u001b[0m\n",
      "\n",
      "\u001b[32m======================================== \u001b[32m\u001b[1m1 passed\u001b[0m\u001b[32m in 0.23s\u001b[0m\u001b[32m =========================================\u001b[0m\n"
     ]
    }
   ],
   "source": [
    "%%ipytest -v\n",
    "\n",
    "@pytest.mark.parametrize(\"seeds, sizes\", [((1,2), (10,50))])\n",
    "def test_matrix_multiplication_performance(seeds, sizes):\n",
    "    for seed in seeds:\n",
    "        for N in sizes:\n",
    "            A, B, C = matrix_generator(seed, N)\n",
    "\n",
    "            C_numpy, time_numpy = numpy_matrix_multiplication(A, B, C.copy())\n",
    "            C_loop, time_loop = for_loop_matrix_multiplication(A, B, C.copy(), N)\n",
    "\n",
    "            logger.info(\n",
    "                f\"Testing for N = {N} with seed = {seed} \\n       Numpy-based time: {time_numpy:.6f} seconds \\n       For-loop-based time: {time_loop:.6f} seconds \\n {\"-\"*45}\"\n",
    "            )\n",
    "            \n",
    "            assert np.array_equal(C_numpy, C_loop), f\"Mismatch for seed={seed}, size={N}\""
   ]
  },
  {
   "cell_type": "markdown",
   "metadata": {},
   "source": [
    "### Task 2.3"
   ]
  },
  {
   "cell_type": "markdown",
   "metadata": {},
   "source": [
    "Timer function from assignment 1 changed from decorator to a function with some added functionality like confidence intervals."
   ]
  },
  {
   "cell_type": "code",
   "execution_count": 64,
   "metadata": {},
   "outputs": [],
   "source": [
    "from typing import Callable\n",
    "import scipy.stats as stats\n",
    "\n",
    "\n",
    "def timer(N, func: Callable, *args, **kwargs):\n",
    "    arr = np.zeros((10,))\n",
    "    result = None\n",
    "    for n in range(10):\n",
    "        start = timeit.default_timer()\n",
    "        result = func(*args, **kwargs)\n",
    "        end = timeit.default_timer()\n",
    "        arr[n] = end - start\n",
    "\n",
    "    mean = np.mean(arr)\n",
    "    sem = stats.sem(arr)\n",
    "    confidence = 0.95\n",
    "    interval = stats.t.interval(confidence, len(arr) - 1, loc=mean, scale=sem)\n",
    "    interval = (float(interval[0]), float(interval[1]))\n",
    "\n",
    "    logger.info(\n",
    "        f\"\"\"Function: {func.__name__} {N}x{N}\n",
    "       Average Execution Time: {mean:.6f} seconds \n",
    "       Standard Deviation: {arr.std():.6f} seconds \n",
    "       Min/Max: ({arr.min():.6f}, {arr.max():.6f}) seconds \n",
    "       95% Confidence Interval: {interval}\n",
    "        \"\"\"\n",
    "    )\n",
    "    return result\n"
   ]
  },
  {
   "cell_type": "markdown",
   "metadata": {},
   "source": [
    "Testing the timer function with the DGEMM functions:"
   ]
  },
  {
   "cell_type": "code",
   "execution_count": 65,
   "metadata": {},
   "outputs": [
    {
     "name": "stderr",
     "output_type": "stream",
     "text": [
      "INFO - Function: numpy_matrix_multiplication 10x10\n",
      "       Average Execution Time: 0.000009 seconds \n",
      "       Standard Deviation: 0.000009 seconds \n",
      "       Min/Max: (0.000002, 0.000030) seconds \n",
      "       95% Confidence Interval: (1.805574484811031e-06, 1.5511425826056993e-05)\n",
      "        \n",
      "INFO - Function: for_loop_matrix_multiplication 10x10\n",
      "       Average Execution Time: 0.000906 seconds \n",
      "       Standard Deviation: 0.000175 seconds \n",
      "       Min/Max: (0.000639, 0.001222) seconds \n",
      "       95% Confidence Interval: (0.0007742163699188184, 0.0010380586286007512)\n",
      "        \n",
      "INFO - Function: numpy_matrix_multiplication 100x100\n",
      "       Average Execution Time: 0.000653 seconds \n",
      "       Standard Deviation: 0.000082 seconds \n",
      "       Min/Max: (0.000559, 0.000803) seconds \n",
      "       95% Confidence Interval: (0.0005911756681685645, 0.0007147161380911867)\n",
      "        \n",
      "INFO - Function: for_loop_matrix_multiplication 100x100\n",
      "       Average Execution Time: 0.652493 seconds \n",
      "       Standard Deviation: 0.016677 seconds \n",
      "       Min/Max: (0.634773, 0.697630) seconds \n",
      "       95% Confidence Interval: (0.6399179043569561, 0.665068037228663)\n",
      "        \n",
      "INFO - Function: numpy_matrix_multiplication 250x250\n",
      "       Average Execution Time: 0.010023 seconds \n",
      "       Standard Deviation: 0.000555 seconds \n",
      "       Min/Max: (0.009451, 0.011590) seconds \n",
      "       95% Confidence Interval: (0.009604384245743641, 0.010441490953395478)\n",
      "        \n",
      "INFO - Function: for_loop_matrix_multiplication 250x250\n",
      "       Average Execution Time: 10.447745 seconds \n",
      "       Standard Deviation: 0.399612 seconds \n",
      "       Min/Max: (10.141133, 11.498001) seconds \n",
      "       95% Confidence Interval: (10.146416397124003, 10.749073436484732)\n",
      "        \n"
     ]
    }
   ],
   "source": [
    "N = 10\n",
    "seed = 1\n",
    "A, B, C = matrix_generator(seed, N)\n",
    "\n",
    "_ = timer(N, numpy_matrix_multiplication, A, B, C)\n",
    "_ = timer(N, for_loop_matrix_multiplication, A, B, C, N)\n",
    "\n",
    "N = 100\n",
    "A, B, C = matrix_generator(seed, N)\n",
    "\n",
    "_ = timer(N, numpy_matrix_multiplication, A, B, C)\n",
    "_ = timer(N, for_loop_matrix_multiplication, A, B, C, N)\n",
    "\n",
    "N = 250\n",
    "A, B, C = matrix_generator(seed, N)\n",
    "\n",
    "_ = timer(N, numpy_matrix_multiplication, A, B, C)\n",
    "_ = timer(N, for_loop_matrix_multiplication, A, B, C, N)\n"
   ]
  }
 ],
 "metadata": {
  "kernelspec": {
   "display_name": "Python (myenv)",
   "language": "python",
   "name": "myenv"
  },
  "language_info": {
   "codemirror_mode": {
    "name": "ipython",
    "version": 3
   },
   "file_extension": ".py",
   "mimetype": "text/x-python",
   "name": "python",
   "nbconvert_exporter": "python",
   "pygments_lexer": "ipython3",
   "version": "3.13.1"
  }
 },
 "nbformat": 4,
 "nbformat_minor": 4
}
