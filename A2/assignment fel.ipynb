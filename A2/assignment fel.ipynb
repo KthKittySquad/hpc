{
 "cells": [
  {
   "cell_type": "markdown",
   "metadata": {},
   "source": [
    "## Assignment II: Data Structures and Methods for HPC"
   ]
  },
  {
   "cell_type": "markdown",
   "metadata": {
    "vscode": {
     "languageId": "plaintext"
    }
   },
   "source": [
    "# Exercise 1 - Pytest with Julia Set Code"
   ]
  },
  {
   "cell_type": "markdown",
   "metadata": {},
   "source": [
    "Julia code with assert statement removed and replaced with a return of output for the function."
   ]
  },
  {
   "cell_type": "code",
   "execution_count": 115,
   "metadata": {},
   "outputs": [
    {
     "name": "stdout",
     "output_type": "stream",
     "text": [
      "Length of x: 1000\n",
      "Total elements: 1000000\n",
      "calculate_z_serial_purepython took 1.8283319473266602 seconds\n",
      "the sum is:  33219980\n"
     ]
    }
   ],
   "source": [
    "\"\"\"Julia set generator without optional PIL-based image drawing\"\"\"\n",
    "import time\n",
    "from functools import wraps\n",
    "\n",
    "# area of complex space to investigate\n",
    "x1, x2, y1, y2 = -1.8, 1.8, -1.8, 1.8\n",
    "c_real, c_imag = -0.62772, -.42193\n",
    "\n",
    "\n",
    "# decorator to time\n",
    "def timefn(fn):\n",
    "\n",
    "    @wraps(fn)\n",
    "    def measure_time(*args, **kwargs):\n",
    "        t1 = time.time()\n",
    "        result = fn(*args, **kwargs)\n",
    "        t2 = time.time()\n",
    "        print(f\"@timefn: {fn.__name__} took {t2 - t1} seconds\")\n",
    "        return result\n",
    "\n",
    "    return measure_time\n",
    "\n",
    "\n",
    "def calc_pure_python(desired_width, max_iterations):\n",
    "    \"\"\"Create a list of complex coordinates (zs) and complex parameters (cs),\n",
    "    build Julia set\"\"\"\n",
    "    x_step = (x2 - x1) / desired_width\n",
    "    y_step = (y1 - y2) / desired_width\n",
    "    x = []\n",
    "    y = []\n",
    "    ycoord = y2\n",
    "    while ycoord > y1:\n",
    "        y.append(ycoord)\n",
    "        ycoord += y_step\n",
    "    xcoord = x1\n",
    "    while xcoord < x2:\n",
    "        x.append(xcoord)\n",
    "        xcoord += x_step\n",
    "    # build a list of coordinates and the initial condition for each cell.\n",
    "    # Note that our initial condition is a constant and could easily be removed,\n",
    "    # we use it to simulate a real-world scenario with several inputs to our\n",
    "    # function\n",
    "    zs = []\n",
    "    cs = []\n",
    "    for ycoord in y:\n",
    "        for xcoord in x:\n",
    "            zs.append(complex(xcoord, ycoord))\n",
    "            cs.append(complex(c_real, c_imag))\n",
    "\n",
    "    print(\"Length of x:\", len(x))\n",
    "    print(\"Total elements:\", len(zs))\n",
    "    start_time = time.time()\n",
    "    output = calculate_z_serial_purepython(max_iterations, zs, cs)\n",
    "    end_time = time.time()\n",
    "    secs = end_time - start_time\n",
    "    print(calculate_z_serial_purepython.__name__ + \" took\", secs, \"seconds\")\n",
    "    \n",
    "    print(\"the sum is: \", sum(output))\n",
    "    \n",
    "    return output\n",
    "\n",
    "\n",
    "def calculate_z_serial_purepython(maxiter, zs, cs):\n",
    "    \"\"\"Calculate output list using Julia update rule\"\"\"\n",
    "    output = [0] * len(zs)\n",
    "    for i in range(len(zs)):\n",
    "        n = 0\n",
    "        z = zs[i]\n",
    "        c = cs[i]\n",
    "        while abs(z) < 2 and n < maxiter:\n",
    "            z = z * z + c\n",
    "            n += 1\n",
    "        output[i] = n\n",
    "    return output\n",
    "\n",
    "\n",
    "if __name__ == \"__main__\":\n",
    "    # Calculate the Julia set using a pure Python solution with\n",
    "    # reasonable defaults for a laptop\n",
    "    calc_pure_python(desired_width=1000, max_iterations=300) "
   ]
  },
  {
   "cell_type": "markdown",
   "metadata": {},
   "source": [
    "Pytest of the function which replaced the assert statment and accounts for multiple test cases and dimensions."
   ]
  },
  {
   "cell_type": "code",
   "execution_count": 123,
   "metadata": {},
   "outputs": [],
   "source": [
    "import pytest\n",
    "# from JuliaSet import calc_pure_python\n",
    "\n",
    "\n",
    "# @pytest.mark.parametrize('width, iterations, expected', [(1000, 300, 33219980), (10, 3, 177)])\n",
    "# def test_calc_pure_python(width, iterations, expected):\n",
    "#     output = calc_pure_python(width, iterations)\n",
    "#     assert sum(output) == expected"
   ]
  },
  {
   "cell_type": "markdown",
   "metadata": {},
   "source": [
    "To include unit tests with different numbers or iterations, an expected value is necessary but easily implemented in the above code as another tuple in the list. Add one tuple after the two given cases, right of the (10, 3, 177), and it would be able to test the sum of output given different inputs."
   ]
  },
  {
   "cell_type": "markdown",
   "metadata": {
    "vscode": {
     "languageId": "plaintext"
    }
   },
   "source": [
    "# Exercise 2 - Python DGEMM Benchmark Operation#"
   ]
  },
  {
   "cell_type": "markdown",
   "metadata": {},
   "source": [
    "### Task 2.1 Implement the DGEMM with matrices as NumPy array\n",
    "\n",
    "Original C code:"
   ]
  },
  {
   "cell_type": "code",
   "execution_count": null,
   "metadata": {
    "vscode": {
     "languageId": "c"
    }
   },
   "outputs": [],
   "source": [
    "// Multiplying first and second matrices and storing it in result\n",
    "   for (int i = 0; i < N; ++i) {\n",
    "      for (int j = 0; j < N; ++j) {\n",
    "         for (int k = 0; k < N; ++k) {\n",
    "            C[i][j] = C[i][j] + A[i][k] * B[k][j];\n",
    "         }\n",
    "      }\n",
    "   }"
   ]
  },
  {
   "cell_type": "markdown",
   "metadata": {},
   "source": [
    "Python translation of the C code:"
   ]
  },
  {
   "cell_type": "code",
   "execution_count": 117,
   "metadata": {},
   "outputs": [
    {
     "name": "stdout",
     "output_type": "stream",
     "text": [
      "Time taken for normal multiplication:  0.3127814170002239\n"
     ]
    }
   ],
   "source": [
    "import numpy as np\n",
    "import numexpr as ne\n",
    "import timeit\n",
    "\n",
    "\n",
    "seed = 1\n",
    "N = 100\n",
    "if seed is not None:\n",
    "    np.random.seed(seed)\n",
    "\n",
    "A = np.random.randint(-N,N,(N,N))\n",
    "B = np.random.randint(-N,N,(N,N))\n",
    "C = np.random.randint(-N,N,(N,N))\n",
    "\n",
    "# print(\"A is : \\n\", A)\n",
    "# print(\"B is : \\n\", B)\n",
    "# print(\"C is : \\n\", C)\n",
    "@timer\n",
    "def for_loop_matrix_multiplication(A, B, C, N):\n",
    "    start = timeit.default_timer()\n",
    "    for i in range(N):\n",
    "        for j in range(N):\n",
    "            for k in range(N):\n",
    "                C[i][j] += A[i][k] * B[k][j]\n",
    "    end = timeit.default_timer()\n",
    "    \n",
    "    return (C, end-start)\n",
    "\n",
    "(output, for_loop_matrix_time) = for_loop_matrix_multiplication(A, B, C, N)\n",
    "print(\"Time taken for normal multiplication: \", for_loop_matrix_time)\n",
    "# print(\"Correct is: \\n\", output)"
   ]
  },
  {
   "cell_type": "code",
   "execution_count": 130,
   "metadata": {},
   "outputs": [
    {
     "name": "stdout",
     "output_type": "stream",
     "text": [
      "Time taken for normal multiplication:  0.0006760419928468764\n"
     ]
    }
   ],
   "source": [
    "@timer\n",
    "def numpy_matrix_multiplication(A, B, C):\n",
    "    start = timeit.default_timer()\n",
    "    C += np.dot(A, B)\n",
    "    end = timeit.default_timer()\n",
    "    return (C, end-start)\n",
    "\n",
    "(output, np_matrix_time) = numpy_matrix_multiplication(A, B, C)\n",
    "print(\"Time taken for normal multiplication: \", np_matrix_time)\n",
    "# print(\"Correct is: \\n\", output)"
   ]
  },
  {
   "cell_type": "markdown",
   "metadata": {},
   "source": [
    "Below is the PyTest for the numpy matrix multiplication. The for-loop solution is seen as the correct solution for all cases:"
   ]
  },
  {
   "cell_type": "code",
   "execution_count": 153,
   "metadata": {},
   "outputs": [
    {
     "name": "stderr",
     "output_type": "stream",
     "text": [
      "UsageError: Line magic function `%%ipytest` not found.\n"
     ]
    }
   ],
   "source": [
    "import ipytest\n",
    "ipytest.autoconfig()\n",
    "\n",
    "# %%ipytest -v\n",
    "\n",
    "@pytest.mark.parametrize('seed, size', [(1,10), (1,50), (1, 100), (2,10)])\n",
    "def test_numpy_matrix_multiplication(seed=1, size=100):\n",
    "    N = size\n",
    "    np.random.seed(seed)\n",
    "    A = np.random.randint(-N,N,(N,N))\n",
    "    B = np.random.randint(-N,N,(N,N))\n",
    "    C = np.random.randint(-N,N,(N,N))\n",
    "\n",
    "    assert np.array_equal(\n",
    "    numpy_matrix_multiplication(A, B, C)[0],\n",
    "    for_loop_matrix_multiplication(A, B, C, N)[0]), f\"Mismatch for seed={seed}, size={size}\"\n",
    "\n",
    "test_numpy_matrix_multiplication(1, 10)\n",
    "test_numpy_matrix_multiplication(1, 50)\n",
    "test_numpy_matrix_multiplication(1, 100)\n",
    "test_numpy_matrix_multiplication(2, 10)\n",
    "test_numpy_matrix_multiplication(2, 50)\n",
    "test_numpy_matrix_multiplication(2, 100)"
   ]
  },
  {
   "cell_type": "markdown",
   "metadata": {},
   "source": [
    "Below is the code which measured the execution time for the NumPY multiplication function and for-loop function. This is the same code for our assignment 1 decorator.py "
   ]
  },
  {
   "cell_type": "code",
   "execution_count": null,
   "metadata": {},
   "outputs": [],
   "source": [
    "import timeit\n",
    "from functools import wraps\n",
    "from typing import Callable\n",
    "\n",
    "\n",
    "def timer(func: Callable) -> Callable:\n",
    "\n",
    "    @wraps(func)\n",
    "    def wrapper(*args, **kwargs):\n",
    "        arr = np.zeros((10,))\n",
    "        result = None\n",
    "        for n in range(10):\n",
    "            start = timeit.default_timer()\n",
    "            result = func(*args, **kwargs)\n",
    "            end = timeit.default_timer()\n",
    "            arr[n] = end - start\n",
    "        print(f\"Function: {func.__name__}\")\n",
    "        print(f\"Average Execution Time: {arr.mean():.6f} seconds\")\n",
    "        print(f\"Standard Deviation: {arr.std():.6f} seconds\")\n",
    "        return result\n",
    "\n",
    "    return wrapper"
   ]
  },
  {
   "cell_type": "code",
   "execution_count": 151,
   "metadata": {},
   "outputs": [],
   "source": [
    "\n",
    "N = 10\n",
    "A1 = np.random.randint(-N,N,(N,N))\n",
    "B1 = np.random.randint(-N,N,(N,N))\n",
    "C1 = np.random.randint(-N,N,(N,N))\n",
    "\n",
    "N = 25\n",
    "A2 = np.random.randint(-N,N,(N,N))\n",
    "B2 = np.random.randint(-N,N,(N,N))\n",
    "C2 = np.random.randint(-N,N,(N,N))\n",
    "\n",
    "N = 50\n",
    "A3 = np.random.randint(-N,N,(N,N))\n",
    "B3 = np.random.randint(-N,N,(N,N))\n",
    "C3 = np.random.randint(-N,N,(N,N))\n",
    "\n",
    "\n"
   ]
  }
 ],
 "metadata": {
  "kernelspec": {
   "display_name": "Python 3",
   "language": "python",
   "name": "python3"
  },
  "language_info": {
   "codemirror_mode": {
    "name": "ipython",
    "version": 3
   },
   "file_extension": ".py",
   "mimetype": "text/x-python",
   "name": "python",
   "nbconvert_exporter": "python",
   "pygments_lexer": "ipython3",
   "version": "3.12.2"
  }
 },
 "nbformat": 4,
 "nbformat_minor": 2
}
